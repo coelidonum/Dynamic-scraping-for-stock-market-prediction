{
 "cells": [
  {
   "cell_type": "code",
   "execution_count": 1,
   "metadata": {},
   "outputs": [
    {
     "name": "stdout",
     "output_type": "stream",
     "text": [
      "Come si dice \"selfie\" in italiano?\n",
      "In Italia non si traduce ma si utilizza la parola in inglese \"selfie\", quindi é diventato un termine internazionale.\n",
      "In lingua italiana, la traduzione fedele sarebbe \"ritratto con il telefonino\" ma é più che probabile che, anche se questa definizione é corretta, il parlante puo' rischiare di avere una reazione non gradita oppure molto estranea dagli ascoltatori.\n",
      "Quindi, é più che sicuro che la miglior maniera di tradurre selfie in lingua italiana é continuare a chiamarlo tale, ovvero selfie.\n",
      "In bocca al lupo !!!\n",
      "Come si dice 'how do you say' in italiano?\n",
      "Perché ci salutiamo dicendo \"Ciao\"?\n",
      "Come si traduce in italiano \"to spell\"?\n",
      "Come si dice \"never give up\" in italiano?\n",
      "Come si dice \"Merry Christmas\" in italiano?\n",
      "Come si dice 'how do you say' in italiano?\n",
      "Perché ci salutiamo dicendo \"Ciao\"?\n",
      "Come si traduce in italiano \"to spell\"?\n",
      "Come si dice \"never give up\" in italiano?\n",
      "Come si dice \"Merry Christmas\" in italiano?\n",
      "Come si dice in italiano \"May the force be with you\"?\n",
      "Perché in italiano si dice Spagna e non Espagna?\n",
      "Perché quando le persone camminano in fila per uno si dice \"in fila indiana\"?\n",
      "Come si dice \"pull up\" in italiano?\n",
      "Come si traduce “writing skills” in italiano (in ogni contesto)?\n",
      "Come si dice \"non ce la faccio\" in spagnolo?\n",
      "Come si dice \"Kiss Me\" in italiano?\n",
      "Come si dice \"push up\" in italiano?\n",
      "In italiano come si dice \"you're welcome\"?\n",
      "Come si dice \"uccidi due piccioni con una fava\" in italiano?\n",
      "Come si dice 'how do you say' in italiano?\n",
      "Perché ci salutiamo dicendo \"Ciao\"?\n",
      "Come si traduce in italiano \"to spell\"?\n",
      "Come si dice \"never give up\" in italiano?\n",
      "Come si dice \"Merry Christmas\" in italiano?\n",
      "Come si dice in italiano \"May the force be with you\"?\n"
     ]
    }
   ],
   "source": [
    "#https://www.youtube.com/watch?v=O--WVte1WhU\n",
    "\n",
    "from selenium import webdriver\n",
    "chrome_path = r\"/home/corra/Scrivania/Uni/Scraping/chromedriver\"\n",
    "driver = webdriver.Chrome(chrome_path) #be sure you have the same driver and the same version installed\n",
    "\n",
    "driver.get(\"https://it.quora.com/Come-si-dice-selfie-in-italiano\")\n",
    "review = driver.find_elements_by_class_name(\"ui_qtext_rendered_qtext\")\n",
    "for post in review:\n",
    "    print(post.text)"
   ]
  }
 ],
 "metadata": {
  "kernelspec": {
   "display_name": "Python 3",
   "language": "python",
   "name": "python3"
  },
  "language_info": {
   "codemirror_mode": {
    "name": "ipython",
    "version": 3
   },
   "file_extension": ".py",
   "mimetype": "text/x-python",
   "name": "python",
   "nbconvert_exporter": "python",
   "pygments_lexer": "ipython3",
   "version": "3.7.3"
  }
 },
 "nbformat": 4,
 "nbformat_minor": 2
}
